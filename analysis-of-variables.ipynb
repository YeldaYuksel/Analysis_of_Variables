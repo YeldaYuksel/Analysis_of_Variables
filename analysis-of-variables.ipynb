{
 "cells": [
  {
   "cell_type": "markdown",
   "id": "55d6d82f",
   "metadata": {
    "papermill": {
     "duration": 0.004676,
     "end_time": "2024-09-11T13:40:12.141131",
     "exception": false,
     "start_time": "2024-09-11T13:40:12.136455",
     "status": "completed"
    },
    "tags": []
   },
   "source": [
    "**This script performs data exploration and generates summaries for categorical columns in the Titanic dataset.**\n",
    "\n",
    "**-**\n",
    "\n",
    "**Bu script, veri keşfini gerçekleştirmek ve Titanic veri setindeki kategorik sütunlar için özetler oluşturur.**"
   ]
  },
  {
   "cell_type": "code",
   "execution_count": 1,
   "id": "4d29af25",
   "metadata": {
    "execution": {
     "iopub.execute_input": "2024-09-11T13:40:12.151668Z",
     "iopub.status.busy": "2024-09-11T13:40:12.151251Z",
     "iopub.status.idle": "2024-09-11T13:40:14.256348Z",
     "shell.execute_reply": "2024-09-11T13:40:14.255020Z"
    },
    "papermill": {
     "duration": 2.113662,
     "end_time": "2024-09-11T13:40:14.259029",
     "exception": false,
     "start_time": "2024-09-11T13:40:12.145367",
     "status": "completed"
    },
    "tags": []
   },
   "outputs": [
    {
     "data": {
      "text/html": [
       "<div>\n",
       "<style scoped>\n",
       "    .dataframe tbody tr th:only-of-type {\n",
       "        vertical-align: middle;\n",
       "    }\n",
       "\n",
       "    .dataframe tbody tr th {\n",
       "        vertical-align: top;\n",
       "    }\n",
       "\n",
       "    .dataframe thead th {\n",
       "        text-align: right;\n",
       "    }\n",
       "</style>\n",
       "<table border=\"1\" class=\"dataframe\">\n",
       "  <thead>\n",
       "    <tr style=\"text-align: right;\">\n",
       "      <th></th>\n",
       "      <th>survived</th>\n",
       "      <th>pclass</th>\n",
       "      <th>sex</th>\n",
       "      <th>age</th>\n",
       "      <th>sibsp</th>\n",
       "      <th>parch</th>\n",
       "      <th>fare</th>\n",
       "      <th>embarked</th>\n",
       "      <th>class</th>\n",
       "      <th>who</th>\n",
       "      <th>adult_male</th>\n",
       "      <th>deck</th>\n",
       "      <th>embark_town</th>\n",
       "      <th>alive</th>\n",
       "      <th>alone</th>\n",
       "    </tr>\n",
       "  </thead>\n",
       "  <tbody>\n",
       "    <tr>\n",
       "      <th>0</th>\n",
       "      <td>0</td>\n",
       "      <td>3</td>\n",
       "      <td>male</td>\n",
       "      <td>22.0</td>\n",
       "      <td>1</td>\n",
       "      <td>0</td>\n",
       "      <td>7.2500</td>\n",
       "      <td>S</td>\n",
       "      <td>Third</td>\n",
       "      <td>man</td>\n",
       "      <td>True</td>\n",
       "      <td>NaN</td>\n",
       "      <td>Southampton</td>\n",
       "      <td>no</td>\n",
       "      <td>False</td>\n",
       "    </tr>\n",
       "    <tr>\n",
       "      <th>1</th>\n",
       "      <td>1</td>\n",
       "      <td>1</td>\n",
       "      <td>female</td>\n",
       "      <td>38.0</td>\n",
       "      <td>1</td>\n",
       "      <td>0</td>\n",
       "      <td>71.2833</td>\n",
       "      <td>C</td>\n",
       "      <td>First</td>\n",
       "      <td>woman</td>\n",
       "      <td>False</td>\n",
       "      <td>C</td>\n",
       "      <td>Cherbourg</td>\n",
       "      <td>yes</td>\n",
       "      <td>False</td>\n",
       "    </tr>\n",
       "    <tr>\n",
       "      <th>2</th>\n",
       "      <td>1</td>\n",
       "      <td>3</td>\n",
       "      <td>female</td>\n",
       "      <td>26.0</td>\n",
       "      <td>0</td>\n",
       "      <td>0</td>\n",
       "      <td>7.9250</td>\n",
       "      <td>S</td>\n",
       "      <td>Third</td>\n",
       "      <td>woman</td>\n",
       "      <td>False</td>\n",
       "      <td>NaN</td>\n",
       "      <td>Southampton</td>\n",
       "      <td>yes</td>\n",
       "      <td>True</td>\n",
       "    </tr>\n",
       "    <tr>\n",
       "      <th>3</th>\n",
       "      <td>1</td>\n",
       "      <td>1</td>\n",
       "      <td>female</td>\n",
       "      <td>35.0</td>\n",
       "      <td>1</td>\n",
       "      <td>0</td>\n",
       "      <td>53.1000</td>\n",
       "      <td>S</td>\n",
       "      <td>First</td>\n",
       "      <td>woman</td>\n",
       "      <td>False</td>\n",
       "      <td>C</td>\n",
       "      <td>Southampton</td>\n",
       "      <td>yes</td>\n",
       "      <td>False</td>\n",
       "    </tr>\n",
       "    <tr>\n",
       "      <th>4</th>\n",
       "      <td>0</td>\n",
       "      <td>3</td>\n",
       "      <td>male</td>\n",
       "      <td>35.0</td>\n",
       "      <td>0</td>\n",
       "      <td>0</td>\n",
       "      <td>8.0500</td>\n",
       "      <td>S</td>\n",
       "      <td>Third</td>\n",
       "      <td>man</td>\n",
       "      <td>True</td>\n",
       "      <td>NaN</td>\n",
       "      <td>Southampton</td>\n",
       "      <td>no</td>\n",
       "      <td>True</td>\n",
       "    </tr>\n",
       "  </tbody>\n",
       "</table>\n",
       "</div>"
      ],
      "text/plain": [
       "   survived  pclass     sex   age  sibsp  parch     fare embarked  class    who  adult_male deck  embark_town alive  alone\n",
       "0         0       3    male  22.0      1      0   7.2500        S  Third    man        True  NaN  Southampton    no  False\n",
       "1         1       1  female  38.0      1      0  71.2833        C  First  woman       False    C    Cherbourg   yes  False\n",
       "2         1       3  female  26.0      0      0   7.9250        S  Third  woman       False  NaN  Southampton   yes   True\n",
       "3         1       1  female  35.0      1      0  53.1000        S  First  woman       False    C  Southampton   yes  False\n",
       "4         0       3    male  35.0      0      0   8.0500        S  Third    man        True  NaN  Southampton    no   True"
      ]
     },
     "execution_count": 1,
     "metadata": {},
     "output_type": "execute_result"
    }
   ],
   "source": [
    "import pandas as pd\n",
    "import seaborn as sns\n",
    "import matplotlib.pyplot as plt\n",
    "pd.set_option('display.max_columns', None)\n",
    "pd.set_option('display.width', 500)\n",
    "#df = sns.load_dataset(\"titanic\")\n",
    "df = pd.read_csv(\"/kaggle/input/titanic-dataset-csv/titanic.csv\")\n",
    "df.head()"
   ]
  },
  {
   "cell_type": "code",
   "execution_count": 2,
   "id": "48c23936",
   "metadata": {
    "execution": {
     "iopub.execute_input": "2024-09-11T13:40:14.269675Z",
     "iopub.status.busy": "2024-09-11T13:40:14.269264Z",
     "iopub.status.idle": "2024-09-11T13:40:14.312946Z",
     "shell.execute_reply": "2024-09-11T13:40:14.311821Z"
    },
    "papermill": {
     "duration": 0.051687,
     "end_time": "2024-09-11T13:40:14.315367",
     "exception": false,
     "start_time": "2024-09-11T13:40:14.263680",
     "status": "completed"
    },
    "tags": []
   },
   "outputs": [
    {
     "data": {
      "text/html": [
       "<div>\n",
       "<style scoped>\n",
       "    .dataframe tbody tr th:only-of-type {\n",
       "        vertical-align: middle;\n",
       "    }\n",
       "\n",
       "    .dataframe tbody tr th {\n",
       "        vertical-align: top;\n",
       "    }\n",
       "\n",
       "    .dataframe thead th {\n",
       "        text-align: right;\n",
       "    }\n",
       "</style>\n",
       "<table border=\"1\" class=\"dataframe\">\n",
       "  <thead>\n",
       "    <tr style=\"text-align: right;\">\n",
       "      <th></th>\n",
       "      <th>sex</th>\n",
       "      <th>embarked</th>\n",
       "      <th>class</th>\n",
       "      <th>who</th>\n",
       "      <th>adult_male</th>\n",
       "      <th>deck</th>\n",
       "      <th>embark_town</th>\n",
       "      <th>alive</th>\n",
       "      <th>alone</th>\n",
       "      <th>survived</th>\n",
       "      <th>pclass</th>\n",
       "      <th>sibsp</th>\n",
       "      <th>parch</th>\n",
       "    </tr>\n",
       "  </thead>\n",
       "  <tbody>\n",
       "    <tr>\n",
       "      <th>0</th>\n",
       "      <td>male</td>\n",
       "      <td>S</td>\n",
       "      <td>Third</td>\n",
       "      <td>man</td>\n",
       "      <td>True</td>\n",
       "      <td>NaN</td>\n",
       "      <td>Southampton</td>\n",
       "      <td>no</td>\n",
       "      <td>False</td>\n",
       "      <td>0</td>\n",
       "      <td>3</td>\n",
       "      <td>1</td>\n",
       "      <td>0</td>\n",
       "    </tr>\n",
       "    <tr>\n",
       "      <th>1</th>\n",
       "      <td>female</td>\n",
       "      <td>C</td>\n",
       "      <td>First</td>\n",
       "      <td>woman</td>\n",
       "      <td>False</td>\n",
       "      <td>C</td>\n",
       "      <td>Cherbourg</td>\n",
       "      <td>yes</td>\n",
       "      <td>False</td>\n",
       "      <td>1</td>\n",
       "      <td>1</td>\n",
       "      <td>1</td>\n",
       "      <td>0</td>\n",
       "    </tr>\n",
       "    <tr>\n",
       "      <th>2</th>\n",
       "      <td>female</td>\n",
       "      <td>S</td>\n",
       "      <td>Third</td>\n",
       "      <td>woman</td>\n",
       "      <td>False</td>\n",
       "      <td>NaN</td>\n",
       "      <td>Southampton</td>\n",
       "      <td>yes</td>\n",
       "      <td>True</td>\n",
       "      <td>1</td>\n",
       "      <td>3</td>\n",
       "      <td>0</td>\n",
       "      <td>0</td>\n",
       "    </tr>\n",
       "    <tr>\n",
       "      <th>3</th>\n",
       "      <td>female</td>\n",
       "      <td>S</td>\n",
       "      <td>First</td>\n",
       "      <td>woman</td>\n",
       "      <td>False</td>\n",
       "      <td>C</td>\n",
       "      <td>Southampton</td>\n",
       "      <td>yes</td>\n",
       "      <td>False</td>\n",
       "      <td>1</td>\n",
       "      <td>1</td>\n",
       "      <td>1</td>\n",
       "      <td>0</td>\n",
       "    </tr>\n",
       "    <tr>\n",
       "      <th>4</th>\n",
       "      <td>male</td>\n",
       "      <td>S</td>\n",
       "      <td>Third</td>\n",
       "      <td>man</td>\n",
       "      <td>True</td>\n",
       "      <td>NaN</td>\n",
       "      <td>Southampton</td>\n",
       "      <td>no</td>\n",
       "      <td>True</td>\n",
       "      <td>0</td>\n",
       "      <td>3</td>\n",
       "      <td>0</td>\n",
       "      <td>0</td>\n",
       "    </tr>\n",
       "    <tr>\n",
       "      <th>...</th>\n",
       "      <td>...</td>\n",
       "      <td>...</td>\n",
       "      <td>...</td>\n",
       "      <td>...</td>\n",
       "      <td>...</td>\n",
       "      <td>...</td>\n",
       "      <td>...</td>\n",
       "      <td>...</td>\n",
       "      <td>...</td>\n",
       "      <td>...</td>\n",
       "      <td>...</td>\n",
       "      <td>...</td>\n",
       "      <td>...</td>\n",
       "    </tr>\n",
       "    <tr>\n",
       "      <th>886</th>\n",
       "      <td>male</td>\n",
       "      <td>S</td>\n",
       "      <td>Second</td>\n",
       "      <td>man</td>\n",
       "      <td>True</td>\n",
       "      <td>NaN</td>\n",
       "      <td>Southampton</td>\n",
       "      <td>no</td>\n",
       "      <td>True</td>\n",
       "      <td>0</td>\n",
       "      <td>2</td>\n",
       "      <td>0</td>\n",
       "      <td>0</td>\n",
       "    </tr>\n",
       "    <tr>\n",
       "      <th>887</th>\n",
       "      <td>female</td>\n",
       "      <td>S</td>\n",
       "      <td>First</td>\n",
       "      <td>woman</td>\n",
       "      <td>False</td>\n",
       "      <td>B</td>\n",
       "      <td>Southampton</td>\n",
       "      <td>yes</td>\n",
       "      <td>True</td>\n",
       "      <td>1</td>\n",
       "      <td>1</td>\n",
       "      <td>0</td>\n",
       "      <td>0</td>\n",
       "    </tr>\n",
       "    <tr>\n",
       "      <th>888</th>\n",
       "      <td>female</td>\n",
       "      <td>S</td>\n",
       "      <td>Third</td>\n",
       "      <td>woman</td>\n",
       "      <td>False</td>\n",
       "      <td>NaN</td>\n",
       "      <td>Southampton</td>\n",
       "      <td>no</td>\n",
       "      <td>False</td>\n",
       "      <td>0</td>\n",
       "      <td>3</td>\n",
       "      <td>1</td>\n",
       "      <td>2</td>\n",
       "    </tr>\n",
       "    <tr>\n",
       "      <th>889</th>\n",
       "      <td>male</td>\n",
       "      <td>C</td>\n",
       "      <td>First</td>\n",
       "      <td>man</td>\n",
       "      <td>True</td>\n",
       "      <td>C</td>\n",
       "      <td>Cherbourg</td>\n",
       "      <td>yes</td>\n",
       "      <td>True</td>\n",
       "      <td>1</td>\n",
       "      <td>1</td>\n",
       "      <td>0</td>\n",
       "      <td>0</td>\n",
       "    </tr>\n",
       "    <tr>\n",
       "      <th>890</th>\n",
       "      <td>male</td>\n",
       "      <td>Q</td>\n",
       "      <td>Third</td>\n",
       "      <td>man</td>\n",
       "      <td>True</td>\n",
       "      <td>NaN</td>\n",
       "      <td>Queenstown</td>\n",
       "      <td>no</td>\n",
       "      <td>True</td>\n",
       "      <td>0</td>\n",
       "      <td>3</td>\n",
       "      <td>0</td>\n",
       "      <td>0</td>\n",
       "    </tr>\n",
       "  </tbody>\n",
       "</table>\n",
       "<p>891 rows × 13 columns</p>\n",
       "</div>"
      ],
      "text/plain": [
       "        sex embarked   class    who  adult_male deck  embark_town alive  alone  survived  pclass  sibsp  parch\n",
       "0      male        S   Third    man        True  NaN  Southampton    no  False         0       3      1      0\n",
       "1    female        C   First  woman       False    C    Cherbourg   yes  False         1       1      1      0\n",
       "2    female        S   Third  woman       False  NaN  Southampton   yes   True         1       3      0      0\n",
       "3    female        S   First  woman       False    C  Southampton   yes  False         1       1      1      0\n",
       "4      male        S   Third    man        True  NaN  Southampton    no   True         0       3      0      0\n",
       "..      ...      ...     ...    ...         ...  ...          ...   ...    ...       ...     ...    ...    ...\n",
       "886    male        S  Second    man        True  NaN  Southampton    no   True         0       2      0      0\n",
       "887  female        S   First  woman       False    B  Southampton   yes   True         1       1      0      0\n",
       "888  female        S   Third  woman       False  NaN  Southampton    no  False         0       3      1      2\n",
       "889    male        C   First    man        True    C    Cherbourg   yes   True         1       1      0      0\n",
       "890    male        Q   Third    man        True  NaN   Queenstown    no   True         0       3      0      0\n",
       "\n",
       "[891 rows x 13 columns]"
      ]
     },
     "execution_count": 2,
     "metadata": {},
     "output_type": "execute_result"
    }
   ],
   "source": [
    "###selecting category, object, and bool data types in DF\n",
    "cat_cols = [col for col in df.columns if str(df[col].dtypes) in [\"category\", \"object\", \"bool\"]]\n",
    "\n",
    "###selecting categorical values with numeric data type\n",
    "num_but_cat = [col for col in df.columns if df[col].nunique() < 10 and \n",
    "               df[col].dtypes in [\"int\", \"float\"]]\n",
    "\n",
    "###selecting cardinal category and object data types\n",
    "cat_but_car = [col for col in df.columns if df[col].nunique() > 20 and \n",
    "               str(df[col].dtypes) in [\"category\", \"object\"]]\n",
    "\n",
    "###output: []\n",
    "\n",
    "cat_cols = cat_cols + num_but_cat\n",
    "\n",
    "### checking Dataframe df with new variables\n",
    "\n",
    "df[cat_cols]"
   ]
  },
  {
   "cell_type": "code",
   "execution_count": 3,
   "id": "91957ee2",
   "metadata": {
    "execution": {
     "iopub.execute_input": "2024-09-11T13:40:14.326537Z",
     "iopub.status.busy": "2024-09-11T13:40:14.326112Z",
     "iopub.status.idle": "2024-09-11T13:40:14.338308Z",
     "shell.execute_reply": "2024-09-11T13:40:14.337058Z"
    },
    "papermill": {
     "duration": 0.020928,
     "end_time": "2024-09-11T13:40:14.341079",
     "exception": false,
     "start_time": "2024-09-11T13:40:14.320151",
     "status": "completed"
    },
    "tags": []
   },
   "outputs": [
    {
     "name": "stdout",
     "output_type": "stream",
     "text": [
      "        sex      Ratio\n",
      "sex                   \n",
      "male    577  64.758698\n",
      "female  314  35.241302\n"
     ]
    }
   ],
   "source": [
    "###function to display the count and ratio of each unique value\n",
    "\n",
    "def cat_summary(dataframe, col_name):\n",
    "    print(pd.DataFrame({col_name: dataframe[col_name].value_counts(), \n",
    "                        \"Ratio\": 100 * dataframe[col_name].value_counts() / len(dataframe)}))\n",
    "\n",
    "### Loop - for all cols\n",
    "\n",
    "#for col in cat_cols:\n",
    "#    cat_summary(df, col)\n",
    "\n",
    "\n",
    "### Applying the function to the 'sex' column\n",
    "\n",
    "cat_summary(df, \"sex\")"
   ]
  },
  {
   "cell_type": "markdown",
   "id": "f05ca7b7",
   "metadata": {
    "papermill": {
     "duration": 0.004681,
     "end_time": "2024-09-11T13:40:14.350806",
     "exception": false,
     "start_time": "2024-09-11T13:40:14.346125",
     "status": "completed"
    },
    "tags": []
   },
   "source": [
    "***Modifying cat_summary function with countplot***"
   ]
  },
  {
   "cell_type": "code",
   "execution_count": 4,
   "id": "c262bdd6",
   "metadata": {
    "execution": {
     "iopub.execute_input": "2024-09-11T13:40:14.362932Z",
     "iopub.status.busy": "2024-09-11T13:40:14.361822Z",
     "iopub.status.idle": "2024-09-11T13:40:14.605762Z",
     "shell.execute_reply": "2024-09-11T13:40:14.604608Z"
    },
    "papermill": {
     "duration": 0.252607,
     "end_time": "2024-09-11T13:40:14.608291",
     "exception": false,
     "start_time": "2024-09-11T13:40:14.355684",
     "status": "completed"
    },
    "tags": []
   },
   "outputs": [
    {
     "name": "stdout",
     "output_type": "stream",
     "text": [
      "        sex      Ratio\n",
      "sex                   \n",
      "male    577  64.758698\n",
      "female  314  35.241302\n"
     ]
    },
    {
     "data": {
      "image/png": "[encoded data removed]",
      "text/plain": [
       "<Figure size 640x480 with 1 Axes>"
      ]
     },
     "metadata": {},
     "output_type": "display_data"
    }
   ],
   "source": [
    "def cat_summary(dataframe, col_name, plot=False):\n",
    "    print(pd.DataFrame({col_name: dataframe[col_name].value_counts(), \n",
    "                        \"Ratio\": 100 * dataframe[col_name].value_counts() / len(dataframe)}))\n",
    "\n",
    "    if plot:\n",
    "        sns.countplot(x=dataframe[col_name], data=dataframe)\n",
    "        plt.show(block=True)\n",
    "\n",
    "### Loop -for all cols\n",
    "\n",
    "#for col in cat_cols:\n",
    "#    if df[col].dtypes == \"bool\":\n",
    "#        df[col] = df[col].astype(int)\n",
    "#        cat_summary(df, col, plot=True)\n",
    "#    else:\n",
    "#        cat_summary(df, col, plot=True)\n",
    "\n",
    "\n",
    "cat_summary(df, \"sex\", plot=True)"
   ]
  },
  {
   "cell_type": "markdown",
   "id": "ccc809fe",
   "metadata": {
    "papermill": {
     "duration": 0.005234,
     "end_time": "2024-09-11T13:40:14.619283",
     "exception": false,
     "start_time": "2024-09-11T13:40:14.614049",
     "status": "completed"
    },
    "tags": []
   },
   "source": [
    "**This script performs data exploration and generates summaries for numerical columns in the Titanic dataset.**\n",
    "\n",
    "**-**\n",
    "\n",
    "**Bu script, veri keşfini gerçekleştirmek ve Titanic veri setindeki numerik sütunlar için özetler oluşturur.**"
   ]
  },
  {
   "cell_type": "code",
   "execution_count": 5,
   "id": "1f30029b",
   "metadata": {
    "execution": {
     "iopub.execute_input": "2024-09-11T13:40:14.631945Z",
     "iopub.status.busy": "2024-09-11T13:40:14.631524Z",
     "iopub.status.idle": "2024-09-11T13:40:14.646352Z",
     "shell.execute_reply": "2024-09-11T13:40:14.645091Z"
    },
    "papermill": {
     "duration": 0.024308,
     "end_time": "2024-09-11T13:40:14.648979",
     "exception": false,
     "start_time": "2024-09-11T13:40:14.624671",
     "status": "completed"
    },
    "tags": []
   },
   "outputs": [
    {
     "name": "stdout",
     "output_type": "stream",
     "text": [
      "count    714.000000\n",
      "mean      29.699118\n",
      "std       14.526497\n",
      "min        0.420000\n",
      "5%         4.000000\n",
      "10%       14.000000\n",
      "20%       19.000000\n",
      "30%       22.000000\n",
      "40%       25.000000\n",
      "50%       28.000000\n",
      "60%       31.800000\n",
      "70%       36.000000\n",
      "80%       41.000000\n",
      "90%       50.000000\n",
      "95%       56.000000\n",
      "99%       65.870000\n",
      "max       80.000000\n",
      "Name: age, dtype: float64\n"
     ]
    }
   ],
   "source": [
    "num_cols = [col for col in df.columns if df[col].dtypes in [\"int\", \"float\"]]\n",
    "\n",
    "num_cols = [col for col in num_cols if col not in cat_cols]\n",
    "\n",
    "def num_summary(dataframe, numerical_col):\n",
    "    quantiles = [0.05, 0.10, 0.20, 0.30, 0.40, 0.50, 0.60, 0.70, 0.80, 0.90, 0.95, 0.99]\n",
    "    print(dataframe[numerical_col].describe(quantiles).T)\n",
    "\n",
    "num_summary(df, \"age\")\n",
    "\n",
    "### Loop -for all cols\n",
    "\n",
    "#for col in num_cols:\n",
    "#    num_summary(df, col)"
   ]
  },
  {
   "cell_type": "markdown",
   "id": "9c081be5",
   "metadata": {
    "papermill": {
     "duration": 0.006182,
     "end_time": "2024-09-11T13:40:14.660862",
     "exception": false,
     "start_time": "2024-09-11T13:40:14.654680",
     "status": "completed"
    },
    "tags": []
   },
   "source": [
    "***Modifying num_summary function with countplot***"
   ]
  },
  {
   "cell_type": "code",
   "execution_count": 6,
   "id": "becaa657",
   "metadata": {
    "execution": {
     "iopub.execute_input": "2024-09-11T13:40:14.677159Z",
     "iopub.status.busy": "2024-09-11T13:40:14.676733Z",
     "iopub.status.idle": "2024-09-11T13:40:15.014560Z",
     "shell.execute_reply": "2024-09-11T13:40:15.013207Z"
    },
    "papermill": {
     "duration": 0.348257,
     "end_time": "2024-09-11T13:40:15.017354",
     "exception": false,
     "start_time": "2024-09-11T13:40:14.669097",
     "status": "completed"
    },
    "tags": []
   },
   "outputs": [
    {
     "name": "stdout",
     "output_type": "stream",
     "text": [
      "count    714.000000\n",
      "mean      29.699118\n",
      "std       14.526497\n",
      "min        0.420000\n",
      "5%         4.000000\n",
      "10%       14.000000\n",
      "20%       19.000000\n",
      "30%       22.000000\n",
      "40%       25.000000\n",
      "50%       28.000000\n",
      "60%       31.800000\n",
      "70%       36.000000\n",
      "80%       41.000000\n",
      "90%       50.000000\n",
      "95%       56.000000\n",
      "99%       65.870000\n",
      "max       80.000000\n",
      "Name: age, dtype: float64\n"
     ]
    },
    {
     "data": {
      "image/png": "[encoded data removed]",
      "text/plain": [
       "<Figure size 640x480 with 1 Axes>"
      ]
     },
     "metadata": {},
     "output_type": "display_data"
    }
   ],
   "source": [
    "def num_summary(dataframe, numerical_col, plot=False):\n",
    "    quantiles = [0.05, 0.10, 0.20, 0.30, 0.40, 0.50, 0.60, 0.70, 0.80, 0.90, 0.95, 0.99]\n",
    "    print(dataframe[numerical_col].describe(quantiles).T)\n",
    "\n",
    "    if plot:\n",
    "        dataframe[numerical_col].hist()\n",
    "        plt.xlabel(numerical_col)\n",
    "        plt.title(numerical_col)\n",
    "        plt.show(block=True)\n",
    "\n",
    "\n",
    "### Loop -for all cols\n",
    "\n",
    "#    for col in num_cols:\n",
    "#        num_summary(df, col, plot=True)\n",
    "\n",
    "num_summary(df, \"age\", plot=True)"
   ]
  }
 ],
 "metadata": {
  "kaggle": {
   "accelerator": "none",
   "dataSources": [
    {
     "datasetId": 5680736,
     "sourceId": 9367488,
     "sourceType": "datasetVersion"
    }
   ],
   "dockerImageVersionId": 30761,
   "isGpuEnabled": false,
   "isInternetEnabled": false,
   "language": "python",
   "sourceType": "notebook"
  },
  "kernelspec": {
   "display_name": "Python 3",
   "language": "python",
   "name": "python3"
  },
  "language_info": {
   "codemirror_mode": {
    "name": "ipython",
    "version": 3
   },
   "file_extension": ".py",
   "mimetype": "text/x-python",
   "name": "python",
   "nbconvert_exporter": "python",
   "pygments_lexer": "ipython3",
   "version": "3.10.14"
  },
  "papermill": {
   "default_parameters": {},
   "duration": 6.389569,
   "end_time": "2024-09-11T13:40:15.644942",
   "environment_variables": {},
   "exception": null,
   "input_path": "__notebook__.ipynb",
   "output_path": "__notebook__.ipynb",
   "parameters": {},
   "start_time": "2024-09-11T13:40:09.255373",
   "version": "2.6.0"
  }
 },
 "nbformat": 4,
 "nbformat_minor": 5
}
