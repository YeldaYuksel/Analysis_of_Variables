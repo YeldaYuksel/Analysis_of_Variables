{
 "cells": [
  {
   "cell_type": "markdown",
   "id": "a682de9c",
   "metadata": {
    "papermill": {
     "duration": 0.005334,
     "end_time": "2024-09-02T14:17:31.355259",
     "exception": false,
     "start_time": "2024-09-02T14:17:31.349925",
     "status": "completed"
    },
    "tags": []
   },
   "source": [
    "**This script performs data exploration and generates summaries for categorical columns in the Titanic dataset.**\n",
    "\n",
    "**-**\n",
    "\n",
    "**Bu script, veri keşfini gerçekleştirmek ve Titanic veri setindeki kategorik sütunlar için özetler oluşturur.**"
   ]
  },
  {
   "cell_type": "code",
   "execution_count": 1,
   "id": "26586d3b",
   "metadata": {
    "execution": {
     "iopub.execute_input": "2024-09-02T14:17:31.366190Z",
     "iopub.status.busy": "2024-09-02T14:17:31.365641Z",
     "iopub.status.idle": "2024-09-02T14:17:31.374525Z",
     "shell.execute_reply": "2024-09-02T14:17:31.373184Z"
    },
    "papermill": {
     "duration": 0.017937,
     "end_time": "2024-09-02T14:17:31.377436",
     "exception": false,
     "start_time": "2024-09-02T14:17:31.359499",
     "status": "completed"
    },
    "tags": []
   },
   "outputs": [],
   "source": [
    "#import pandas as pd\n",
    "#import seaborn as sns\n",
    "#import matplotlib.pyplot as plt\n",
    "#pd.set_option('display.max_columns', None)\n",
    "#pd.set_option('display.width', 500)\n",
    "#df = sns.load_dataset(\"titanic\")\n",
    "#df.head()\n",
    "\n",
    "###selecting category, object, and bool data types in DF\n",
    "#cat_cols = [col for col in df.columns if str(df[col].dtypes) in [\"category\", \"object\", \"bool\"]]\n",
    "\n",
    "###selecting categorical values with numeric data type\n",
    "#num_but_cat = [col for col in df.columns if df[col].nunique() < 10 and \n",
    "#               df[col].dtypes in [\"int\", \"float\"]]\n",
    "\n",
    "###selecting cardinal category and object data types\n",
    "#cat_but_car = [col for col in df.columns if df[col].nunique() > 20 and \n",
    "#               str(df[col].dtypes) in [\"category\", \"object\"]]\n",
    "\n",
    "###output: []\n",
    "\n",
    "#cat_cols = cat_cols + num_but_cat\n",
    "\n",
    "\n",
    "\n",
    "### checking Dataframe df with new variables\n",
    "\n",
    "#df[cat_cols]\n",
    "\n",
    "###function to display the count and ratio of each unique value\n",
    "\n",
    "#def cat_summary(dataframe, col_name):\n",
    "#    print(pd.DataFrame({col_name: dataframe[col_name].value_counts(), \n",
    "#                        \"Ratio\": 100 * dataframe[col_name].value_counts() / len(dataframe)}))\n",
    "\n",
    "### Loop\n",
    "\n",
    "#for col in cat_cols:\n",
    "#    cat_summary(df, col)\n",
    "\n",
    "\n",
    "### Applying the function to the 'sex' column\n",
    "\n",
    "#cat_summary(df, \"sex\")"
   ]
  },
  {
   "cell_type": "markdown",
   "id": "78faf2b7",
   "metadata": {
    "papermill": {
     "duration": 0.003581,
     "end_time": "2024-09-02T14:17:31.385145",
     "exception": false,
     "start_time": "2024-09-02T14:17:31.381564",
     "status": "completed"
    },
    "tags": []
   },
   "source": [
    "***Modifying cat_summary function with countplot***"
   ]
  },
  {
   "cell_type": "code",
   "execution_count": 2,
   "id": "0cb6d199",
   "metadata": {
    "execution": {
     "iopub.execute_input": "2024-09-02T14:17:31.395998Z",
     "iopub.status.busy": "2024-09-02T14:17:31.394959Z",
     "iopub.status.idle": "2024-09-02T14:17:31.402010Z",
     "shell.execute_reply": "2024-09-02T14:17:31.400306Z"
    },
    "papermill": {
     "duration": 0.015791,
     "end_time": "2024-09-02T14:17:31.404940",
     "exception": false,
     "start_time": "2024-09-02T14:17:31.389149",
     "status": "completed"
    },
    "tags": []
   },
   "outputs": [],
   "source": [
    "#def cat_summary(dataframe, col_name, plot=False):\n",
    "#    print(pd.DataFrame({col_name: dataframe[col_name].value_counts(), \n",
    "#                        \"Ratio\": 100 * dataframe[col_name].value_counts() / len(dataframe)}))\n",
    "\n",
    "#    if plot:\n",
    "#        sns.countplot(x=dataframe[col_name], data=dataframe)\n",
    "#        plt.show(block=True)\n",
    "\n",
    "\n",
    "\n",
    "#for col in cat_cols:\n",
    "#    if df[col].dtypes == \"bool\":\n",
    "#        df[col] = df[col].astype(int)\n",
    "#        cat_summary(df, col, plot=True)\n",
    "#    else:\n",
    "#        cat_summary(df, col, plot=True)\n",
    "\n",
    "\n",
    "#cat_summary(df, \"sex\", plot=True)"
   ]
  },
  {
   "cell_type": "markdown",
   "id": "8159761d",
   "metadata": {
    "papermill": {
     "duration": 0.003642,
     "end_time": "2024-09-02T14:17:31.412772",
     "exception": false,
     "start_time": "2024-09-02T14:17:31.409130",
     "status": "completed"
    },
    "tags": []
   },
   "source": [
    "**This script performs data exploration and generates summaries for numerical columns in the Titanic dataset.**\n",
    "\n",
    "**-**\n",
    "\n",
    "**Bu script, veri keşfini gerçekleştirmek ve Titanic veri setindeki numerik sütunlar için özetler oluşturur.**"
   ]
  },
  {
   "cell_type": "code",
   "execution_count": 3,
   "id": "36df1bec",
   "metadata": {
    "execution": {
     "iopub.execute_input": "2024-09-02T14:17:31.423358Z",
     "iopub.status.busy": "2024-09-02T14:17:31.422804Z",
     "iopub.status.idle": "2024-09-02T14:17:31.429422Z",
     "shell.execute_reply": "2024-09-02T14:17:31.427978Z"
    },
    "papermill": {
     "duration": 0.015218,
     "end_time": "2024-09-02T14:17:31.432034",
     "exception": false,
     "start_time": "2024-09-02T14:17:31.416816",
     "status": "completed"
    },
    "tags": []
   },
   "outputs": [],
   "source": [
    "#num_cols = [col for col in df.columns if df[col].dtypes in [\"int\", \"float\"]]\n",
    "\n",
    "#num_cols = [col for col in num_cols if col not in cat_cols]\n",
    "\n",
    "#def num_summary(dataframe, numerical_col):\n",
    "#    quantiles = [0.05, 0.10, 0.20, 0.30, 0.40, 0.50, 0.60, 0.70, 0.80, 0.90, 0.95, 0.99]\n",
    "#    print(dataframe[numerical_col].describe(quantiles).T)\n",
    "\n",
    "#num_summary(df, \"age\")\n",
    "\n",
    "#for col in num_cols:\n",
    "#    num_summary(df, col)"
   ]
  },
  {
   "cell_type": "markdown",
   "id": "92cb3e05",
   "metadata": {
    "papermill": {
     "duration": 0.003631,
     "end_time": "2024-09-02T14:17:31.439679",
     "exception": false,
     "start_time": "2024-09-02T14:17:31.436048",
     "status": "completed"
    },
    "tags": []
   },
   "source": [
    "***Modifying num_summary function with countplot***"
   ]
  },
  {
   "cell_type": "code",
   "execution_count": 4,
   "id": "aac05df1",
   "metadata": {
    "execution": {
     "iopub.execute_input": "2024-09-02T14:17:31.451633Z",
     "iopub.status.busy": "2024-09-02T14:17:31.450157Z",
     "iopub.status.idle": "2024-09-02T14:17:31.457281Z",
     "shell.execute_reply": "2024-09-02T14:17:31.456003Z"
    },
    "papermill": {
     "duration": 0.016315,
     "end_time": "2024-09-02T14:17:31.460283",
     "exception": false,
     "start_time": "2024-09-02T14:17:31.443968",
     "status": "completed"
    },
    "tags": []
   },
   "outputs": [],
   "source": [
    "#def num_summary(dataframe, numerical_col, plot=False):\n",
    "#    quantiles = [0.05, 0.10, 0.20, 0.30, 0.40, 0.50, 0.60, 0.70, 0.80, 0.90, 0.95, 0.99]\n",
    "#    print(dataframe[numerical_col].describe(quantiles).T)\n",
    "\n",
    "#    if plot:\n",
    "#        dataframe[numerical_col].hist()\n",
    "#        plt.xlabel(numerical_col)\n",
    "#        plt.title(numerical_col)\n",
    "#        plt.show(block=True)\n",
    "\n",
    "\n",
    "#    for col in num_cols:\n",
    "#        num_summary(df, col, plot=True)\n",
    "\n",
    "#num_summary(df, \"age\", plot=True)"
   ]
  },
  {
   "cell_type": "code",
   "execution_count": null,
   "id": "972069cc",
   "metadata": {
    "papermill": {
     "duration": 0.003596,
     "end_time": "2024-09-02T14:17:31.468074",
     "exception": false,
     "start_time": "2024-09-02T14:17:31.464478",
     "status": "completed"
    },
    "tags": []
   },
   "outputs": [],
   "source": []
  }
 ],
 "metadata": {
  "kaggle": {
   "accelerator": "none",
   "dataSources": [],
   "dockerImageVersionId": 30761,
   "isGpuEnabled": false,
   "isInternetEnabled": false,
   "language": "python",
   "sourceType": "notebook"
  },
  "kernelspec": {
   "display_name": "Python 3",
   "language": "python",
   "name": "python3"
  },
  "language_info": {
   "codemirror_mode": {
    "name": "ipython",
    "version": 3
   },
   "file_extension": ".py",
   "mimetype": "text/x-python",
   "name": "python",
   "nbconvert_exporter": "python",
   "pygments_lexer": "ipython3",
   "version": "3.10.14"
  },
  "papermill": {
   "default_parameters": {},
   "duration": 4.408418,
   "end_time": "2024-09-02T14:17:31.895860",
   "environment_variables": {},
   "exception": null,
   "input_path": "__notebook__.ipynb",
   "output_path": "__notebook__.ipynb",
   "parameters": {},
   "start_time": "2024-09-02T14:17:27.487442",
   "version": "2.6.0"
  }
 },
 "nbformat": 4,
 "nbformat_minor": 5
}
